{
 "cells": [
  {
   "cell_type": "markdown",
   "metadata": {},
   "source": [
    " <img src=\"images/jon-tyson-A-obUh61bKw-unsplash.jpg\" width=\"600\" height=\"340\">"
   ]
  },
  {
   "cell_type": "markdown",
   "metadata": {},
   "source": [
    "# Microsoft Movie Analysis\n",
    "\n",
    "**Author:** Volha Puzikava\n",
    "***"
   ]
  },
  {
   "cell_type": "markdown",
   "metadata": {},
   "source": [
    "## Overview\n",
    "\n",
    "This project analyzes the movie datasets from famous movie websites in order to find out what types of films have been doing the best at the box offices since 2010. The results of the exploratory data analyses can help the stakeholders in building a new movie studio, as they generate the insights of the top genres and directors with the highest average worldwide gross, as well as cover the relation between the movie ratings and production budget."
   ]
  },
  {
   "cell_type": "markdown",
   "metadata": {},
   "source": [
    "## Business Problem\n",
    "\n",
    "Microsoft have decided to create a new movie studio, but they don’t know anything about creating movies. My task was to analyze three movie datasets from [IMDB](https://www.imdb.com), [TheMovieDB](https://www.themoviedb.org) and [The Numbers](https://www.the-numbers.com) and yeild three business recommendations for the company.\n",
    "\n",
    "***\n",
    "Questions that were answered in the project:\n",
    "* What are the highest worldwide grossing movie genres since 2010?\n",
    "* What are the highest worldwide grossing movie directors since 2010?\n",
    "* Is there a relation between average movie ratings and the production budget? If yes, recommend the production budget with the highest rating.\n",
    "***"
   ]
  },
  {
   "cell_type": "markdown",
   "metadata": {},
   "source": [
    "## Data Understanding\n",
    "\n",
    "The data for the analysis was collected from various locations. Some data files were compressed CSV, while the data from IMDB was located in a SQLite database. The data provided various information about movies: their own specific id, genre, release date, original title, production budget, language, directors, writers, etc. The metric information was represented by rating and worldwide gross. The movie aspects that were analyzed in terms of metrics included genres, directors and production budget.\n",
    "***\n",
    "Since different dataframes contained different release years (some went back to 1916), I decided to perform analysis on movies that were released starting 2010. As a result, the movie analyses were peformed on the eight-year period: from 2010 to 2018. Also, because some movies didn't belong to one particular genre, but to many, in order to find out the top worldwide grossing genres I had to assign those movies to multiple genres thus duplicating thier worldwide gross.\n",
    "***"
   ]
  },
  {
   "cell_type": "code",
   "execution_count": 1,
   "metadata": {},
   "outputs": [],
   "source": [
    "# Import standard packages\n",
    "import pandas as pd\n",
    "import numpy as np\n",
    "import matplotlib.pyplot as plt\n",
    "import seaborn as sns\n",
    "\n",
    "%matplotlib inline"
   ]
  },
  {
   "cell_type": "code",
   "execution_count": 2,
   "metadata": {
    "scrolled": true
   },
   "outputs": [
    {
     "data": {
      "text/html": [
       "<div>\n",
       "<style scoped>\n",
       "    .dataframe tbody tr th:only-of-type {\n",
       "        vertical-align: middle;\n",
       "    }\n",
       "\n",
       "    .dataframe tbody tr th {\n",
       "        vertical-align: top;\n",
       "    }\n",
       "\n",
       "    .dataframe thead th {\n",
       "        text-align: right;\n",
       "    }\n",
       "</style>\n",
       "<table border=\"1\" class=\"dataframe\">\n",
       "  <thead>\n",
       "    <tr style=\"text-align: right;\">\n",
       "      <th></th>\n",
       "      <th>Unnamed: 0</th>\n",
       "      <th>genre_ids</th>\n",
       "      <th>id</th>\n",
       "      <th>original_language</th>\n",
       "      <th>original_title</th>\n",
       "      <th>popularity</th>\n",
       "      <th>release_date</th>\n",
       "      <th>title</th>\n",
       "      <th>vote_average</th>\n",
       "      <th>vote_count</th>\n",
       "    </tr>\n",
       "  </thead>\n",
       "  <tbody>\n",
       "    <tr>\n",
       "      <th>0</th>\n",
       "      <td>0</td>\n",
       "      <td>[12, 14, 10751]</td>\n",
       "      <td>12444</td>\n",
       "      <td>en</td>\n",
       "      <td>Harry Potter and the Deathly Hallows: Part 1</td>\n",
       "      <td>33.533</td>\n",
       "      <td>2010-11-19</td>\n",
       "      <td>Harry Potter and the Deathly Hallows: Part 1</td>\n",
       "      <td>7.7</td>\n",
       "      <td>10788</td>\n",
       "    </tr>\n",
       "    <tr>\n",
       "      <th>1</th>\n",
       "      <td>1</td>\n",
       "      <td>[14, 12, 16, 10751]</td>\n",
       "      <td>10191</td>\n",
       "      <td>en</td>\n",
       "      <td>How to Train Your Dragon</td>\n",
       "      <td>28.734</td>\n",
       "      <td>2010-03-26</td>\n",
       "      <td>How to Train Your Dragon</td>\n",
       "      <td>7.7</td>\n",
       "      <td>7610</td>\n",
       "    </tr>\n",
       "    <tr>\n",
       "      <th>2</th>\n",
       "      <td>2</td>\n",
       "      <td>[12, 28, 878]</td>\n",
       "      <td>10138</td>\n",
       "      <td>en</td>\n",
       "      <td>Iron Man 2</td>\n",
       "      <td>28.515</td>\n",
       "      <td>2010-05-07</td>\n",
       "      <td>Iron Man 2</td>\n",
       "      <td>6.8</td>\n",
       "      <td>12368</td>\n",
       "    </tr>\n",
       "    <tr>\n",
       "      <th>3</th>\n",
       "      <td>3</td>\n",
       "      <td>[16, 35, 10751]</td>\n",
       "      <td>862</td>\n",
       "      <td>en</td>\n",
       "      <td>Toy Story</td>\n",
       "      <td>28.005</td>\n",
       "      <td>1995-11-22</td>\n",
       "      <td>Toy Story</td>\n",
       "      <td>7.9</td>\n",
       "      <td>10174</td>\n",
       "    </tr>\n",
       "    <tr>\n",
       "      <th>4</th>\n",
       "      <td>4</td>\n",
       "      <td>[28, 878, 12]</td>\n",
       "      <td>27205</td>\n",
       "      <td>en</td>\n",
       "      <td>Inception</td>\n",
       "      <td>27.920</td>\n",
       "      <td>2010-07-16</td>\n",
       "      <td>Inception</td>\n",
       "      <td>8.3</td>\n",
       "      <td>22186</td>\n",
       "    </tr>\n",
       "  </tbody>\n",
       "</table>\n",
       "</div>"
      ],
      "text/plain": [
       "   Unnamed: 0            genre_ids     id original_language  \\\n",
       "0           0      [12, 14, 10751]  12444                en   \n",
       "1           1  [14, 12, 16, 10751]  10191                en   \n",
       "2           2        [12, 28, 878]  10138                en   \n",
       "3           3      [16, 35, 10751]    862                en   \n",
       "4           4        [28, 878, 12]  27205                en   \n",
       "\n",
       "                                 original_title  popularity release_date  \\\n",
       "0  Harry Potter and the Deathly Hallows: Part 1      33.533   2010-11-19   \n",
       "1                      How to Train Your Dragon      28.734   2010-03-26   \n",
       "2                                    Iron Man 2      28.515   2010-05-07   \n",
       "3                                     Toy Story      28.005   1995-11-22   \n",
       "4                                     Inception      27.920   2010-07-16   \n",
       "\n",
       "                                          title  vote_average  vote_count  \n",
       "0  Harry Potter and the Deathly Hallows: Part 1           7.7       10788  \n",
       "1                      How to Train Your Dragon           7.7        7610  \n",
       "2                                    Iron Man 2           6.8       12368  \n",
       "3                                     Toy Story           7.9       10174  \n",
       "4                                     Inception           8.3       22186  "
      ]
     },
     "metadata": {},
     "output_type": "display_data"
    },
    {
     "data": {
      "text/html": [
       "<div>\n",
       "<style scoped>\n",
       "    .dataframe tbody tr th:only-of-type {\n",
       "        vertical-align: middle;\n",
       "    }\n",
       "\n",
       "    .dataframe tbody tr th {\n",
       "        vertical-align: top;\n",
       "    }\n",
       "\n",
       "    .dataframe thead th {\n",
       "        text-align: right;\n",
       "    }\n",
       "</style>\n",
       "<table border=\"1\" class=\"dataframe\">\n",
       "  <thead>\n",
       "    <tr style=\"text-align: right;\">\n",
       "      <th></th>\n",
       "      <th>id</th>\n",
       "      <th>release_date</th>\n",
       "      <th>movie</th>\n",
       "      <th>production_budget</th>\n",
       "      <th>domestic_gross</th>\n",
       "      <th>worldwide_gross</th>\n",
       "    </tr>\n",
       "  </thead>\n",
       "  <tbody>\n",
       "    <tr>\n",
       "      <th>0</th>\n",
       "      <td>1</td>\n",
       "      <td>Dec 18, 2009</td>\n",
       "      <td>Avatar</td>\n",
       "      <td>$425,000,000</td>\n",
       "      <td>$760,507,625</td>\n",
       "      <td>$2,776,345,279</td>\n",
       "    </tr>\n",
       "    <tr>\n",
       "      <th>1</th>\n",
       "      <td>2</td>\n",
       "      <td>May 20, 2011</td>\n",
       "      <td>Pirates of the Caribbean: On Stranger Tides</td>\n",
       "      <td>$410,600,000</td>\n",
       "      <td>$241,063,875</td>\n",
       "      <td>$1,045,663,875</td>\n",
       "    </tr>\n",
       "    <tr>\n",
       "      <th>2</th>\n",
       "      <td>3</td>\n",
       "      <td>Jun 7, 2019</td>\n",
       "      <td>Dark Phoenix</td>\n",
       "      <td>$350,000,000</td>\n",
       "      <td>$42,762,350</td>\n",
       "      <td>$149,762,350</td>\n",
       "    </tr>\n",
       "    <tr>\n",
       "      <th>3</th>\n",
       "      <td>4</td>\n",
       "      <td>May 1, 2015</td>\n",
       "      <td>Avengers: Age of Ultron</td>\n",
       "      <td>$330,600,000</td>\n",
       "      <td>$459,005,868</td>\n",
       "      <td>$1,403,013,963</td>\n",
       "    </tr>\n",
       "    <tr>\n",
       "      <th>4</th>\n",
       "      <td>5</td>\n",
       "      <td>Dec 15, 2017</td>\n",
       "      <td>Star Wars Ep. VIII: The Last Jedi</td>\n",
       "      <td>$317,000,000</td>\n",
       "      <td>$620,181,382</td>\n",
       "      <td>$1,316,721,747</td>\n",
       "    </tr>\n",
       "  </tbody>\n",
       "</table>\n",
       "</div>"
      ],
      "text/plain": [
       "   id  release_date                                        movie  \\\n",
       "0   1  Dec 18, 2009                                       Avatar   \n",
       "1   2  May 20, 2011  Pirates of the Caribbean: On Stranger Tides   \n",
       "2   3   Jun 7, 2019                                 Dark Phoenix   \n",
       "3   4   May 1, 2015                      Avengers: Age of Ultron   \n",
       "4   5  Dec 15, 2017            Star Wars Ep. VIII: The Last Jedi   \n",
       "\n",
       "  production_budget domestic_gross worldwide_gross  \n",
       "0      $425,000,000   $760,507,625  $2,776,345,279  \n",
       "1      $410,600,000   $241,063,875  $1,045,663,875  \n",
       "2      $350,000,000    $42,762,350    $149,762,350  \n",
       "3      $330,600,000   $459,005,868  $1,403,013,963  \n",
       "4      $317,000,000   $620,181,382  $1,316,721,747  "
      ]
     },
     "execution_count": 2,
     "metadata": {},
     "output_type": "execute_result"
    }
   ],
   "source": [
    "# Retrieve data\n",
    "df1 = pd.read_csv('zippedData/tmdb.movies.csv.gz')\n",
    "display(df1.head())\n",
    "df2 = pd.read_csv('zippedData/tn.movie_budgets.csv.gz')\n",
    "df2.head()"
   ]
  },
  {
   "cell_type": "code",
   "execution_count": 3,
   "metadata": {},
   "outputs": [
    {
     "data": {
      "text/plain": [
       "[('movie_basics',),\n",
       " ('directors',),\n",
       " ('known_for',),\n",
       " ('movie_akas',),\n",
       " ('movie_ratings',),\n",
       " ('persons',),\n",
       " ('principals',),\n",
       " ('writers',)]"
      ]
     },
     "execution_count": 3,
     "metadata": {},
     "output_type": "execute_result"
    }
   ],
   "source": [
    "# Open the connection to database\n",
    "import sqlite3\n",
    "conn = sqlite3.connect('zippedData/im.db')\n",
    "cur = conn.cursor()\n",
    "# Execute the query\n",
    "cur.execute(\"\"\"SELECT name FROM sqlite_master WHERE type = 'table';\"\"\")\n",
    "# Fetch the result and store it in table_names\n",
    "table_names = cur.fetchall()\n",
    "table_names"
   ]
  },
  {
   "cell_type": "code",
   "execution_count": 4,
   "metadata": {},
   "outputs": [
    {
     "data": {
      "text/html": [
       "<div>\n",
       "<style scoped>\n",
       "    .dataframe tbody tr th:only-of-type {\n",
       "        vertical-align: middle;\n",
       "    }\n",
       "\n",
       "    .dataframe tbody tr th {\n",
       "        vertical-align: top;\n",
       "    }\n",
       "\n",
       "    .dataframe thead th {\n",
       "        text-align: right;\n",
       "    }\n",
       "</style>\n",
       "<table border=\"1\" class=\"dataframe\">\n",
       "  <thead>\n",
       "    <tr style=\"text-align: right;\">\n",
       "      <th></th>\n",
       "      <th>movie</th>\n",
       "      <th>genre</th>\n",
       "      <th>year</th>\n",
       "      <th>rating</th>\n",
       "      <th>director</th>\n",
       "    </tr>\n",
       "  </thead>\n",
       "  <tbody>\n",
       "    <tr>\n",
       "      <th>0</th>\n",
       "      <td>One Day Before the Rainy Season</td>\n",
       "      <td>Biography,Drama</td>\n",
       "      <td>2019</td>\n",
       "      <td>7.2</td>\n",
       "      <td>Mani Kaul</td>\n",
       "    </tr>\n",
       "    <tr>\n",
       "      <th>1</th>\n",
       "      <td>On kadin</td>\n",
       "      <td>Drama</td>\n",
       "      <td>2019</td>\n",
       "      <td>7.1</td>\n",
       "      <td>Serif Gören</td>\n",
       "    </tr>\n",
       "    <tr>\n",
       "      <th>2</th>\n",
       "      <td>Abolição</td>\n",
       "      <td>Documentary</td>\n",
       "      <td>2019</td>\n",
       "      <td>7.4</td>\n",
       "      <td>Zózimo Bulbul</td>\n",
       "    </tr>\n",
       "    <tr>\n",
       "      <th>3</th>\n",
       "      <td>Alita: Battle Angel</td>\n",
       "      <td>Action,Adventure,Sci-Fi</td>\n",
       "      <td>2019</td>\n",
       "      <td>7.5</td>\n",
       "      <td>Robert Rodriguez</td>\n",
       "    </tr>\n",
       "    <tr>\n",
       "      <th>4</th>\n",
       "      <td>Alita: Battle Angel</td>\n",
       "      <td>Action,Adventure,Sci-Fi</td>\n",
       "      <td>2019</td>\n",
       "      <td>7.5</td>\n",
       "      <td>Robert Rodriguez</td>\n",
       "    </tr>\n",
       "  </tbody>\n",
       "</table>\n",
       "</div>"
      ],
      "text/plain": [
       "                             movie                    genre  year  rating  \\\n",
       "0  One Day Before the Rainy Season          Biography,Drama  2019     7.2   \n",
       "1                         On kadin                    Drama  2019     7.1   \n",
       "2                         Abolição              Documentary  2019     7.4   \n",
       "3              Alita: Battle Angel  Action,Adventure,Sci-Fi  2019     7.5   \n",
       "4              Alita: Battle Angel  Action,Adventure,Sci-Fi  2019     7.5   \n",
       "\n",
       "           director  \n",
       "0         Mani Kaul  \n",
       "1       Serif Gören  \n",
       "2     Zózimo Bulbul  \n",
       "3  Robert Rodriguez  \n",
       "4  Robert Rodriguez  "
      ]
     },
     "execution_count": 4,
     "metadata": {},
     "output_type": "execute_result"
    }
   ],
   "source": [
    "# Select specific columns and wrap the results into Pandas DataFrame\n",
    "p = \"\"\"\n",
    "SELECT mb.primary_title AS movie, \n",
    "       mb.genres AS genre, \n",
    "       mb.start_year AS year, \n",
    "       mr.averagerating AS rating, \n",
    "       p.primary_name AS director\n",
    "FROM movie_basics AS mb\n",
    "JOIN movie_ratings AS mr\n",
    "    USING(movie_id)\n",
    "JOIN directors as d\n",
    "    USING(movie_id)\n",
    "JOIN persons AS p\n",
    "    USING(person_id)\n",
    "ORDER BY start_year DESC;\n",
    "\"\"\"\n",
    "df3 = pd.read_sql(p, conn)\n",
    "df3.head()"
   ]
  },
  {
   "cell_type": "markdown",
   "metadata": {},
   "source": [
    "## Data Preparation\n",
    "\n",
    "Only one out of the three DataFrames contained duplicates and null values. Duplicates were dropped and null values were changed to 'Unknown'. The date columns in the provided DataFrames were of a different format, so they were transformed only to show the year of release. The type of those columns was also changed from object to integer. Since almost all the movies belonged to different genres rather than just to one, the data was exploded in order to transform each element in the column 'genre' to a separate row. The columns of the DataFrames, that contained the same information, were renamed so the DataFrames could be merged on the same column names.\n",
    "\n",
    "***\n"
   ]
  },
  {
   "cell_type": "code",
   "execution_count": 5,
   "metadata": {
    "scrolled": true
   },
   "outputs": [
    {
     "name": "stdout",
     "output_type": "stream",
     "text": [
      "<class 'pandas.core.frame.DataFrame'>\n",
      "RangeIndex: 26517 entries, 0 to 26516\n",
      "Data columns (total 10 columns):\n",
      " #   Column             Non-Null Count  Dtype  \n",
      "---  ------             --------------  -----  \n",
      " 0   Unnamed: 0         26517 non-null  int64  \n",
      " 1   genre_ids          26517 non-null  object \n",
      " 2   id                 26517 non-null  int64  \n",
      " 3   original_language  26517 non-null  object \n",
      " 4   original_title     26517 non-null  object \n",
      " 5   popularity         26517 non-null  float64\n",
      " 6   release_date       26517 non-null  object \n",
      " 7   title              26517 non-null  object \n",
      " 8   vote_average       26517 non-null  float64\n",
      " 9   vote_count         26517 non-null  int64  \n",
      "dtypes: float64(2), int64(3), object(5)\n",
      "memory usage: 2.0+ MB\n"
     ]
    },
    {
     "data": {
      "text/plain": [
       "None"
      ]
     },
     "metadata": {},
     "output_type": "display_data"
    },
    {
     "name": "stdout",
     "output_type": "stream",
     "text": [
      "<class 'pandas.core.frame.DataFrame'>\n",
      "RangeIndex: 5782 entries, 0 to 5781\n",
      "Data columns (total 6 columns):\n",
      " #   Column             Non-Null Count  Dtype \n",
      "---  ------             --------------  ----- \n",
      " 0   id                 5782 non-null   int64 \n",
      " 1   release_date       5782 non-null   object\n",
      " 2   movie              5782 non-null   object\n",
      " 3   production_budget  5782 non-null   object\n",
      " 4   domestic_gross     5782 non-null   object\n",
      " 5   worldwide_gross    5782 non-null   object\n",
      "dtypes: int64(1), object(5)\n",
      "memory usage: 271.2+ KB\n"
     ]
    },
    {
     "data": {
      "text/plain": [
       "None"
      ]
     },
     "metadata": {},
     "output_type": "display_data"
    },
    {
     "name": "stdout",
     "output_type": "stream",
     "text": [
      "<class 'pandas.core.frame.DataFrame'>\n",
      "RangeIndex: 181387 entries, 0 to 181386\n",
      "Data columns (total 5 columns):\n",
      " #   Column    Non-Null Count   Dtype  \n",
      "---  ------    --------------   -----  \n",
      " 0   movie     181387 non-null  object \n",
      " 1   genre     180047 non-null  object \n",
      " 2   year      181387 non-null  int64  \n",
      " 3   rating    181387 non-null  float64\n",
      " 4   director  181387 non-null  object \n",
      "dtypes: float64(1), int64(1), object(3)\n",
      "memory usage: 6.9+ MB\n"
     ]
    }
   ],
   "source": [
    "# Get a concise summary of the dataframes\n",
    "display(df1.info())\n",
    "display(df2.info())\n",
    "df3.info()"
   ]
  },
  {
   "cell_type": "markdown",
   "metadata": {},
   "source": [
    "I started working with Dataframe from [TheMovieDB](https://www.themoviedb.org) website. First, I selected the columns I was interested in, converted the date format and picked only the movies with the release date 2010 and up."
   ]
  },
  {
   "cell_type": "code",
   "execution_count": 6,
   "metadata": {
    "scrolled": true
   },
   "outputs": [
    {
     "data": {
      "text/html": [
       "<div>\n",
       "<style scoped>\n",
       "    .dataframe tbody tr th:only-of-type {\n",
       "        vertical-align: middle;\n",
       "    }\n",
       "\n",
       "    .dataframe tbody tr th {\n",
       "        vertical-align: top;\n",
       "    }\n",
       "\n",
       "    .dataframe thead th {\n",
       "        text-align: right;\n",
       "    }\n",
       "</style>\n",
       "<table border=\"1\" class=\"dataframe\">\n",
       "  <thead>\n",
       "    <tr style=\"text-align: right;\">\n",
       "      <th></th>\n",
       "      <th>release_date</th>\n",
       "      <th>title</th>\n",
       "      <th>vote_average</th>\n",
       "    </tr>\n",
       "  </thead>\n",
       "  <tbody>\n",
       "    <tr>\n",
       "      <th>26057</th>\n",
       "      <td>2020</td>\n",
       "      <td>Murdery Christmas</td>\n",
       "      <td>0.0</td>\n",
       "    </tr>\n",
       "    <tr>\n",
       "      <th>24384</th>\n",
       "      <td>2019</td>\n",
       "      <td>Piercing</td>\n",
       "      <td>5.9</td>\n",
       "    </tr>\n",
       "    <tr>\n",
       "      <th>25429</th>\n",
       "      <td>2019</td>\n",
       "      <td>Bilby</td>\n",
       "      <td>5.0</td>\n",
       "    </tr>\n",
       "    <tr>\n",
       "      <th>24933</th>\n",
       "      <td>2019</td>\n",
       "      <td>Late Afternoon</td>\n",
       "      <td>7.7</td>\n",
       "    </tr>\n",
       "    <tr>\n",
       "      <th>24764</th>\n",
       "      <td>2019</td>\n",
       "      <td>Holiday</td>\n",
       "      <td>5.5</td>\n",
       "    </tr>\n",
       "  </tbody>\n",
       "</table>\n",
       "</div>"
      ],
      "text/plain": [
       "      release_date              title  vote_average\n",
       "26057         2020  Murdery Christmas           0.0\n",
       "24384         2019           Piercing           5.9\n",
       "25429         2019              Bilby           5.0\n",
       "24933         2019     Late Afternoon           7.7\n",
       "24764         2019            Holiday           5.5"
      ]
     },
     "execution_count": 6,
     "metadata": {},
     "output_type": "execute_result"
    }
   ],
   "source": [
    "# Select the necessary DataFrame information\n",
    "df1 = df1.loc[:, ['release_date', 'title', 'vote_average']]\n",
    "# Select only a year from the release_date column and sort the results in the descending order\n",
    "df1['release_date'] = df1.release_date.map(lambda x: x[:4])\n",
    "df1 = df1.sort_values('release_date', ascending = False)\n",
    "df1.head()"
   ]
  },
  {
   "cell_type": "code",
   "execution_count": 7,
   "metadata": {
    "scrolled": false
   },
   "outputs": [
    {
     "data": {
      "text/html": [
       "<div>\n",
       "<style scoped>\n",
       "    .dataframe tbody tr th:only-of-type {\n",
       "        vertical-align: middle;\n",
       "    }\n",
       "\n",
       "    .dataframe tbody tr th {\n",
       "        vertical-align: top;\n",
       "    }\n",
       "\n",
       "    .dataframe thead th {\n",
       "        text-align: right;\n",
       "    }\n",
       "</style>\n",
       "<table border=\"1\" class=\"dataframe\">\n",
       "  <thead>\n",
       "    <tr style=\"text-align: right;\">\n",
       "      <th></th>\n",
       "      <th>release_date</th>\n",
       "      <th>title</th>\n",
       "      <th>vote_average</th>\n",
       "    </tr>\n",
       "  </thead>\n",
       "  <tbody>\n",
       "    <tr>\n",
       "      <th>1675</th>\n",
       "      <td>2010</td>\n",
       "      <td>No Fun City</td>\n",
       "      <td>4.3</td>\n",
       "    </tr>\n",
       "    <tr>\n",
       "      <th>1729</th>\n",
       "      <td>2010</td>\n",
       "      <td>Mountains That Take Wing: Angela Davis &amp; Yuri ...</td>\n",
       "      <td>6.0</td>\n",
       "    </tr>\n",
       "    <tr>\n",
       "      <th>1731</th>\n",
       "      <td>2010</td>\n",
       "      <td>Unrequited Love</td>\n",
       "      <td>6.0</td>\n",
       "    </tr>\n",
       "    <tr>\n",
       "      <th>1640</th>\n",
       "      <td>2010</td>\n",
       "      <td>Deuce of Spades</td>\n",
       "      <td>5.3</td>\n",
       "    </tr>\n",
       "    <tr>\n",
       "      <th>1730</th>\n",
       "      <td>2010</td>\n",
       "      <td>Works of Art</td>\n",
       "      <td>6.0</td>\n",
       "    </tr>\n",
       "  </tbody>\n",
       "</table>\n",
       "</div>"
      ],
      "text/plain": [
       "      release_date                                              title  \\\n",
       "1675          2010                                        No Fun City   \n",
       "1729          2010  Mountains That Take Wing: Angela Davis & Yuri ...   \n",
       "1731          2010                                    Unrequited Love   \n",
       "1640          2010                                    Deuce of Spades   \n",
       "1730          2010                                       Works of Art   \n",
       "\n",
       "      vote_average  \n",
       "1675           4.3  \n",
       "1729           6.0  \n",
       "1731           6.0  \n",
       "1640           5.3  \n",
       "1730           6.0  "
      ]
     },
     "execution_count": 7,
     "metadata": {},
     "output_type": "execute_result"
    }
   ],
   "source": [
    "# Convert the release_date column into an integer type\n",
    "df1['release_date'] = df1['release_date'].astype(str).astype(int)\n",
    "# Select all movies that were released starting 2010\n",
    "df1 = df1[(df1['release_date'] >= 2010)]\n",
    "df1.tail()"
   ]
  },
  {
   "cell_type": "markdown",
   "metadata": {},
   "source": [
    "The next DataFrame for analysis was taken from [The Numbers](https://www.the-numbers.com) website. The performed manipulations were the same as before: select the columns of interest, overwrite and convert the date format and choose the years for the release date 2010 and up."
   ]
  },
  {
   "cell_type": "code",
   "execution_count": 8,
   "metadata": {
    "scrolled": true
   },
   "outputs": [
    {
     "data": {
      "text/html": [
       "<div>\n",
       "<style scoped>\n",
       "    .dataframe tbody tr th:only-of-type {\n",
       "        vertical-align: middle;\n",
       "    }\n",
       "\n",
       "    .dataframe tbody tr th {\n",
       "        vertical-align: top;\n",
       "    }\n",
       "\n",
       "    .dataframe thead th {\n",
       "        text-align: right;\n",
       "    }\n",
       "</style>\n",
       "<table border=\"1\" class=\"dataframe\">\n",
       "  <thead>\n",
       "    <tr style=\"text-align: right;\">\n",
       "      <th></th>\n",
       "      <th>release_date</th>\n",
       "      <th>movie</th>\n",
       "      <th>production_budget</th>\n",
       "      <th>worldwide_gross</th>\n",
       "    </tr>\n",
       "  </thead>\n",
       "  <tbody>\n",
       "    <tr>\n",
       "      <th>3633</th>\n",
       "      <td>2019</td>\n",
       "      <td>The Best of Enemies</td>\n",
       "      <td>$10,000,000</td>\n",
       "      <td>$10,205,616</td>\n",
       "    </tr>\n",
       "    <tr>\n",
       "      <th>3915</th>\n",
       "      <td>2019</td>\n",
       "      <td>El Chicano</td>\n",
       "      <td>$8,000,000</td>\n",
       "      <td>$700,261</td>\n",
       "    </tr>\n",
       "    <tr>\n",
       "      <th>580</th>\n",
       "      <td>2019</td>\n",
       "      <td>The Secret Life of Pets 2</td>\n",
       "      <td>$80,000,000</td>\n",
       "      <td>$113,351,496</td>\n",
       "    </tr>\n",
       "    <tr>\n",
       "      <th>496</th>\n",
       "      <td>2019</td>\n",
       "      <td>Shazam!</td>\n",
       "      <td>$85,000,000</td>\n",
       "      <td>$362,899,733</td>\n",
       "    </tr>\n",
       "    <tr>\n",
       "      <th>95</th>\n",
       "      <td>2019</td>\n",
       "      <td>Captain Marvel</td>\n",
       "      <td>$175,000,000</td>\n",
       "      <td>$1,123,061,550</td>\n",
       "    </tr>\n",
       "  </tbody>\n",
       "</table>\n",
       "</div>"
      ],
      "text/plain": [
       "     release_date                      movie production_budget worldwide_gross\n",
       "3633         2019        The Best of Enemies       $10,000,000     $10,205,616\n",
       "3915         2019                 El Chicano        $8,000,000        $700,261\n",
       "580          2019  The Secret Life of Pets 2       $80,000,000    $113,351,496\n",
       "496          2019                    Shazam!       $85,000,000    $362,899,733\n",
       "95           2019             Captain Marvel      $175,000,000  $1,123,061,550"
      ]
     },
     "execution_count": 8,
     "metadata": {},
     "output_type": "execute_result"
    }
   ],
   "source": [
    "# Select the necessary DataFrame information\n",
    "df2 = df2.loc[:, ['release_date', 'movie', 'production_budget', 'worldwide_gross']]\n",
    "#Select only a year from the release_date column and sort the results in the descending order\n",
    "df2['release_date'] = df2.release_date.map(lambda x: x[7:])\n",
    "df2 = df2.sort_values('release_date', ascending = False)\n",
    "df2.head()"
   ]
  },
  {
   "cell_type": "code",
   "execution_count": 9,
   "metadata": {
    "scrolled": true
   },
   "outputs": [
    {
     "data": {
      "text/html": [
       "<div>\n",
       "<style scoped>\n",
       "    .dataframe tbody tr th:only-of-type {\n",
       "        vertical-align: middle;\n",
       "    }\n",
       "\n",
       "    .dataframe tbody tr th {\n",
       "        vertical-align: top;\n",
       "    }\n",
       "\n",
       "    .dataframe thead th {\n",
       "        text-align: right;\n",
       "    }\n",
       "</style>\n",
       "<table border=\"1\" class=\"dataframe\">\n",
       "  <thead>\n",
       "    <tr style=\"text-align: right;\">\n",
       "      <th></th>\n",
       "      <th>release_date</th>\n",
       "      <th>movie</th>\n",
       "      <th>production_budget</th>\n",
       "      <th>worldwide_gross</th>\n",
       "    </tr>\n",
       "  </thead>\n",
       "  <tbody>\n",
       "    <tr>\n",
       "      <th>4572</th>\n",
       "      <td>2010</td>\n",
       "      <td>The Good Heart</td>\n",
       "      <td>$3,800,000</td>\n",
       "      <td>$340,930</td>\n",
       "    </tr>\n",
       "    <tr>\n",
       "      <th>2352</th>\n",
       "      <td>2010</td>\n",
       "      <td>Faster</td>\n",
       "      <td>$24,000,000</td>\n",
       "      <td>$35,792,945</td>\n",
       "    </tr>\n",
       "    <tr>\n",
       "      <th>5309</th>\n",
       "      <td>2010</td>\n",
       "      <td>Zombies of Mass Destruction</td>\n",
       "      <td>$1,000,000</td>\n",
       "      <td>$0</td>\n",
       "    </tr>\n",
       "    <tr>\n",
       "      <th>3711</th>\n",
       "      <td>2010</td>\n",
       "      <td>Welcome to the Rileys</td>\n",
       "      <td>$10,000,000</td>\n",
       "      <td>$355,919</td>\n",
       "    </tr>\n",
       "    <tr>\n",
       "      <th>5564</th>\n",
       "      <td>2010</td>\n",
       "      <td>Anderson's Cross</td>\n",
       "      <td>$300,000</td>\n",
       "      <td>$0</td>\n",
       "    </tr>\n",
       "  </tbody>\n",
       "</table>\n",
       "</div>"
      ],
      "text/plain": [
       "      release_date                        movie production_budget  \\\n",
       "4572          2010               The Good Heart        $3,800,000   \n",
       "2352          2010                       Faster       $24,000,000   \n",
       "5309          2010  Zombies of Mass Destruction        $1,000,000   \n",
       "3711          2010        Welcome to the Rileys       $10,000,000   \n",
       "5564          2010             Anderson's Cross          $300,000   \n",
       "\n",
       "     worldwide_gross  \n",
       "4572        $340,930  \n",
       "2352     $35,792,945  \n",
       "5309              $0  \n",
       "3711        $355,919  \n",
       "5564              $0  "
      ]
     },
     "execution_count": 9,
     "metadata": {},
     "output_type": "execute_result"
    }
   ],
   "source": [
    "# Change release_date column type into integer\n",
    "df2['release_date'] = df2['release_date'].astype(str).astype(int)\n",
    "# Select all movies that were released starting 2010\n",
    "df2 = df2[df2['release_date'] >= 2010]\n",
    "df2.tail()"
   ]
  },
  {
   "cell_type": "markdown",
   "metadata": {},
   "source": [
    "The data from [IMDB](https://www.imdb.com) website contained a lot of duplicates and null values. The duplicates were removed and the null values were changed to 'Unknown' in the genre column. The DataFrame was also exploded in order to transform each element of the genre column to a row."
   ]
  },
  {
   "cell_type": "code",
   "execution_count": 10,
   "metadata": {
    "scrolled": true
   },
   "outputs": [
    {
     "data": {
      "text/html": [
       "<div>\n",
       "<style scoped>\n",
       "    .dataframe tbody tr th:only-of-type {\n",
       "        vertical-align: middle;\n",
       "    }\n",
       "\n",
       "    .dataframe tbody tr th {\n",
       "        vertical-align: top;\n",
       "    }\n",
       "\n",
       "    .dataframe thead th {\n",
       "        text-align: right;\n",
       "    }\n",
       "</style>\n",
       "<table border=\"1\" class=\"dataframe\">\n",
       "  <thead>\n",
       "    <tr style=\"text-align: right;\">\n",
       "      <th></th>\n",
       "      <th>movie</th>\n",
       "      <th>genre</th>\n",
       "      <th>year</th>\n",
       "      <th>rating</th>\n",
       "      <th>director</th>\n",
       "    </tr>\n",
       "  </thead>\n",
       "  <tbody>\n",
       "    <tr>\n",
       "      <th>4</th>\n",
       "      <td>Alita: Battle Angel</td>\n",
       "      <td>Action,Adventure,Sci-Fi</td>\n",
       "      <td>2019</td>\n",
       "      <td>7.5</td>\n",
       "      <td>Robert Rodriguez</td>\n",
       "    </tr>\n",
       "    <tr>\n",
       "      <th>5</th>\n",
       "      <td>Alita: Battle Angel</td>\n",
       "      <td>Action,Adventure,Sci-Fi</td>\n",
       "      <td>2019</td>\n",
       "      <td>7.5</td>\n",
       "      <td>Robert Rodriguez</td>\n",
       "    </tr>\n",
       "    <tr>\n",
       "      <th>8</th>\n",
       "      <td>Shazam!</td>\n",
       "      <td>Action,Adventure,Comedy</td>\n",
       "      <td>2019</td>\n",
       "      <td>7.4</td>\n",
       "      <td>David F. Sandberg</td>\n",
       "    </tr>\n",
       "    <tr>\n",
       "      <th>9</th>\n",
       "      <td>Shazam!</td>\n",
       "      <td>Action,Adventure,Comedy</td>\n",
       "      <td>2019</td>\n",
       "      <td>7.4</td>\n",
       "      <td>David F. Sandberg</td>\n",
       "    </tr>\n",
       "    <tr>\n",
       "      <th>10</th>\n",
       "      <td>Shazam!</td>\n",
       "      <td>Action,Adventure,Comedy</td>\n",
       "      <td>2019</td>\n",
       "      <td>7.4</td>\n",
       "      <td>David F. Sandberg</td>\n",
       "    </tr>\n",
       "    <tr>\n",
       "      <th>...</th>\n",
       "      <td>...</td>\n",
       "      <td>...</td>\n",
       "      <td>...</td>\n",
       "      <td>...</td>\n",
       "      <td>...</td>\n",
       "    </tr>\n",
       "    <tr>\n",
       "      <th>181372</th>\n",
       "      <td>Mago Digo Dai</td>\n",
       "      <td>Comedy</td>\n",
       "      <td>2010</td>\n",
       "      <td>7.2</td>\n",
       "      <td>Sri Lal Priyadeva</td>\n",
       "    </tr>\n",
       "    <tr>\n",
       "      <th>181380</th>\n",
       "      <td>Hatchet Sisters</td>\n",
       "      <td>Horror</td>\n",
       "      <td>2010</td>\n",
       "      <td>5.4</td>\n",
       "      <td>Jeremy Tidwell</td>\n",
       "    </tr>\n",
       "    <tr>\n",
       "      <th>181381</th>\n",
       "      <td>Hatchet Sisters</td>\n",
       "      <td>Horror</td>\n",
       "      <td>2010</td>\n",
       "      <td>5.4</td>\n",
       "      <td>Jeremy Tidwell</td>\n",
       "    </tr>\n",
       "    <tr>\n",
       "      <th>181383</th>\n",
       "      <td>Hatchet Sisters</td>\n",
       "      <td>Horror</td>\n",
       "      <td>2010</td>\n",
       "      <td>5.4</td>\n",
       "      <td>Joe Black</td>\n",
       "    </tr>\n",
       "    <tr>\n",
       "      <th>181384</th>\n",
       "      <td>Hatchet Sisters</td>\n",
       "      <td>Horror</td>\n",
       "      <td>2010</td>\n",
       "      <td>5.4</td>\n",
       "      <td>Joe Black</td>\n",
       "    </tr>\n",
       "  </tbody>\n",
       "</table>\n",
       "<p>95438 rows × 5 columns</p>\n",
       "</div>"
      ],
      "text/plain": [
       "                      movie                    genre  year  rating  \\\n",
       "4       Alita: Battle Angel  Action,Adventure,Sci-Fi  2019     7.5   \n",
       "5       Alita: Battle Angel  Action,Adventure,Sci-Fi  2019     7.5   \n",
       "8                   Shazam!  Action,Adventure,Comedy  2019     7.4   \n",
       "9                   Shazam!  Action,Adventure,Comedy  2019     7.4   \n",
       "10                  Shazam!  Action,Adventure,Comedy  2019     7.4   \n",
       "...                     ...                      ...   ...     ...   \n",
       "181372        Mago Digo Dai                   Comedy  2010     7.2   \n",
       "181380      Hatchet Sisters                   Horror  2010     5.4   \n",
       "181381      Hatchet Sisters                   Horror  2010     5.4   \n",
       "181383      Hatchet Sisters                   Horror  2010     5.4   \n",
       "181384      Hatchet Sisters                   Horror  2010     5.4   \n",
       "\n",
       "                 director  \n",
       "4        Robert Rodriguez  \n",
       "5        Robert Rodriguez  \n",
       "8       David F. Sandberg  \n",
       "9       David F. Sandberg  \n",
       "10      David F. Sandberg  \n",
       "...                   ...  \n",
       "181372  Sri Lal Priyadeva  \n",
       "181380     Jeremy Tidwell  \n",
       "181381     Jeremy Tidwell  \n",
       "181383          Joe Black  \n",
       "181384          Joe Black  \n",
       "\n",
       "[95438 rows x 5 columns]"
      ]
     },
     "execution_count": 10,
     "metadata": {},
     "output_type": "execute_result"
    }
   ],
   "source": [
    "# Check for duplicates in DataFrame3\n",
    "duplicates = df3[df3.duplicated()]\n",
    "duplicates"
   ]
  },
  {
   "cell_type": "code",
   "execution_count": 11,
   "metadata": {},
   "outputs": [
    {
     "data": {
      "text/plain": [
       "False    85949\n",
       "dtype: int64"
      ]
     },
     "execution_count": 11,
     "metadata": {},
     "output_type": "execute_result"
    }
   ],
   "source": [
    "# Remove duplicates and recheck for duplicates\n",
    "df3 = df3.drop_duplicates()\n",
    "df3.duplicated().value_counts()"
   ]
  },
  {
   "cell_type": "code",
   "execution_count": 12,
   "metadata": {},
   "outputs": [
    {
     "data": {
      "text/plain": [
       "movie         0\n",
       "genre       798\n",
       "year          0\n",
       "rating        0\n",
       "director      0\n",
       "dtype: int64"
      ]
     },
     "execution_count": 12,
     "metadata": {},
     "output_type": "execute_result"
    }
   ],
   "source": [
    "# Check for null values\n",
    "df3.isna().sum()"
   ]
  },
  {
   "cell_type": "code",
   "execution_count": 13,
   "metadata": {},
   "outputs": [
    {
     "data": {
      "text/html": [
       "<div>\n",
       "<style scoped>\n",
       "    .dataframe tbody tr th:only-of-type {\n",
       "        vertical-align: middle;\n",
       "    }\n",
       "\n",
       "    .dataframe tbody tr th {\n",
       "        vertical-align: top;\n",
       "    }\n",
       "\n",
       "    .dataframe thead th {\n",
       "        text-align: right;\n",
       "    }\n",
       "</style>\n",
       "<table border=\"1\" class=\"dataframe\">\n",
       "  <thead>\n",
       "    <tr style=\"text-align: right;\">\n",
       "      <th></th>\n",
       "      <th>movie</th>\n",
       "      <th>genre</th>\n",
       "      <th>year</th>\n",
       "      <th>rating</th>\n",
       "      <th>director</th>\n",
       "    </tr>\n",
       "  </thead>\n",
       "  <tbody>\n",
       "    <tr>\n",
       "      <th>0</th>\n",
       "      <td>One Day Before the Rainy Season</td>\n",
       "      <td>Biography</td>\n",
       "      <td>2019</td>\n",
       "      <td>7.2</td>\n",
       "      <td>Mani Kaul</td>\n",
       "    </tr>\n",
       "    <tr>\n",
       "      <th>0</th>\n",
       "      <td>One Day Before the Rainy Season</td>\n",
       "      <td>Drama</td>\n",
       "      <td>2019</td>\n",
       "      <td>7.2</td>\n",
       "      <td>Mani Kaul</td>\n",
       "    </tr>\n",
       "    <tr>\n",
       "      <th>1</th>\n",
       "      <td>On kadin</td>\n",
       "      <td>Drama</td>\n",
       "      <td>2019</td>\n",
       "      <td>7.1</td>\n",
       "      <td>Serif Gören</td>\n",
       "    </tr>\n",
       "    <tr>\n",
       "      <th>2</th>\n",
       "      <td>Abolição</td>\n",
       "      <td>Documentary</td>\n",
       "      <td>2019</td>\n",
       "      <td>7.4</td>\n",
       "      <td>Zózimo Bulbul</td>\n",
       "    </tr>\n",
       "    <tr>\n",
       "      <th>3</th>\n",
       "      <td>Alita: Battle Angel</td>\n",
       "      <td>Action</td>\n",
       "      <td>2019</td>\n",
       "      <td>7.5</td>\n",
       "      <td>Robert Rodriguez</td>\n",
       "    </tr>\n",
       "    <tr>\n",
       "      <th>...</th>\n",
       "      <td>...</td>\n",
       "      <td>...</td>\n",
       "      <td>...</td>\n",
       "      <td>...</td>\n",
       "      <td>...</td>\n",
       "    </tr>\n",
       "    <tr>\n",
       "      <th>181378</th>\n",
       "      <td>Setteekh</td>\n",
       "      <td>Thriller</td>\n",
       "      <td>2010</td>\n",
       "      <td>5.1</td>\n",
       "      <td>Evgeniy Pavlov</td>\n",
       "    </tr>\n",
       "    <tr>\n",
       "      <th>181379</th>\n",
       "      <td>Hatchet Sisters</td>\n",
       "      <td>Horror</td>\n",
       "      <td>2010</td>\n",
       "      <td>5.4</td>\n",
       "      <td>Jeremy Tidwell</td>\n",
       "    </tr>\n",
       "    <tr>\n",
       "      <th>181382</th>\n",
       "      <td>Hatchet Sisters</td>\n",
       "      <td>Horror</td>\n",
       "      <td>2010</td>\n",
       "      <td>5.4</td>\n",
       "      <td>Joe Black</td>\n",
       "    </tr>\n",
       "    <tr>\n",
       "      <th>181385</th>\n",
       "      <td>Peculiar Pets</td>\n",
       "      <td>Documentary</td>\n",
       "      <td>2010</td>\n",
       "      <td>6.4</td>\n",
       "      <td>Adrian Cale</td>\n",
       "    </tr>\n",
       "    <tr>\n",
       "      <th>181386</th>\n",
       "      <td>The Mountain Goats - The Life of the World to ...</td>\n",
       "      <td>Music</td>\n",
       "      <td>2010</td>\n",
       "      <td>2.9</td>\n",
       "      <td>Rian Johnson</td>\n",
       "    </tr>\n",
       "  </tbody>\n",
       "</table>\n",
       "<p>151098 rows × 5 columns</p>\n",
       "</div>"
      ],
      "text/plain": [
       "                                                    movie        genre  year  \\\n",
       "0                         One Day Before the Rainy Season    Biography  2019   \n",
       "0                         One Day Before the Rainy Season        Drama  2019   \n",
       "1                                                On kadin        Drama  2019   \n",
       "2                                                Abolição  Documentary  2019   \n",
       "3                                     Alita: Battle Angel       Action  2019   \n",
       "...                                                   ...          ...   ...   \n",
       "181378                                           Setteekh     Thriller  2010   \n",
       "181379                                    Hatchet Sisters       Horror  2010   \n",
       "181382                                    Hatchet Sisters       Horror  2010   \n",
       "181385                                      Peculiar Pets  Documentary  2010   \n",
       "181386  The Mountain Goats - The Life of the World to ...        Music  2010   \n",
       "\n",
       "        rating          director  \n",
       "0          7.2         Mani Kaul  \n",
       "0          7.2         Mani Kaul  \n",
       "1          7.1       Serif Gören  \n",
       "2          7.4     Zózimo Bulbul  \n",
       "3          7.5  Robert Rodriguez  \n",
       "...        ...               ...  \n",
       "181378     5.1    Evgeniy Pavlov  \n",
       "181379     5.4    Jeremy Tidwell  \n",
       "181382     5.4         Joe Black  \n",
       "181385     6.4       Adrian Cale  \n",
       "181386     2.9      Rian Johnson  \n",
       "\n",
       "[151098 rows x 5 columns]"
      ]
     },
     "execution_count": 13,
     "metadata": {},
     "output_type": "execute_result"
    }
   ],
   "source": [
    "# Change NaN values in a column to 'Unknown'\n",
    "df3_filled = df3.fillna({'genre': 'Unknown'})\n",
    "# Convert the elements in a column to a list and split the elements\n",
    "df3['genre'] = df3_filled['genre'].tolist()\n",
    "df3['genre'] = df3_filled['genre'].map(lambda x: x.split(','))\n",
    "# Explode the DataFrame transforming each element from a list to a new row\n",
    "df3.explode('genre')"
   ]
  },
  {
   "cell_type": "markdown",
   "metadata": {},
   "source": [
    "The columns of the first two DataFrames were renamed and three DataFrames were merged."
   ]
  },
  {
   "cell_type": "code",
   "execution_count": 14,
   "metadata": {},
   "outputs": [
    {
     "data": {
      "text/html": [
       "<div>\n",
       "<style scoped>\n",
       "    .dataframe tbody tr th:only-of-type {\n",
       "        vertical-align: middle;\n",
       "    }\n",
       "\n",
       "    .dataframe tbody tr th {\n",
       "        vertical-align: top;\n",
       "    }\n",
       "\n",
       "    .dataframe thead th {\n",
       "        text-align: right;\n",
       "    }\n",
       "</style>\n",
       "<table border=\"1\" class=\"dataframe\">\n",
       "  <thead>\n",
       "    <tr style=\"text-align: right;\">\n",
       "      <th></th>\n",
       "      <th>year</th>\n",
       "      <th>movie</th>\n",
       "      <th>rating</th>\n",
       "    </tr>\n",
       "  </thead>\n",
       "  <tbody>\n",
       "    <tr>\n",
       "      <th>26057</th>\n",
       "      <td>2020</td>\n",
       "      <td>Murdery Christmas</td>\n",
       "      <td>0.0</td>\n",
       "    </tr>\n",
       "    <tr>\n",
       "      <th>24384</th>\n",
       "      <td>2019</td>\n",
       "      <td>Piercing</td>\n",
       "      <td>5.9</td>\n",
       "    </tr>\n",
       "    <tr>\n",
       "      <th>25429</th>\n",
       "      <td>2019</td>\n",
       "      <td>Bilby</td>\n",
       "      <td>5.0</td>\n",
       "    </tr>\n",
       "    <tr>\n",
       "      <th>24933</th>\n",
       "      <td>2019</td>\n",
       "      <td>Late Afternoon</td>\n",
       "      <td>7.7</td>\n",
       "    </tr>\n",
       "    <tr>\n",
       "      <th>24764</th>\n",
       "      <td>2019</td>\n",
       "      <td>Holiday</td>\n",
       "      <td>5.5</td>\n",
       "    </tr>\n",
       "  </tbody>\n",
       "</table>\n",
       "</div>"
      ],
      "text/plain": [
       "       year              movie  rating\n",
       "26057  2020  Murdery Christmas     0.0\n",
       "24384  2019           Piercing     5.9\n",
       "25429  2019              Bilby     5.0\n",
       "24933  2019     Late Afternoon     7.7\n",
       "24764  2019            Holiday     5.5"
      ]
     },
     "metadata": {},
     "output_type": "display_data"
    },
    {
     "data": {
      "text/html": [
       "<div>\n",
       "<style scoped>\n",
       "    .dataframe tbody tr th:only-of-type {\n",
       "        vertical-align: middle;\n",
       "    }\n",
       "\n",
       "    .dataframe tbody tr th {\n",
       "        vertical-align: top;\n",
       "    }\n",
       "\n",
       "    .dataframe thead th {\n",
       "        text-align: right;\n",
       "    }\n",
       "</style>\n",
       "<table border=\"1\" class=\"dataframe\">\n",
       "  <thead>\n",
       "    <tr style=\"text-align: right;\">\n",
       "      <th></th>\n",
       "      <th>year</th>\n",
       "      <th>movie</th>\n",
       "      <th>production_budget</th>\n",
       "      <th>worldwide_gross</th>\n",
       "    </tr>\n",
       "  </thead>\n",
       "  <tbody>\n",
       "    <tr>\n",
       "      <th>3633</th>\n",
       "      <td>2019</td>\n",
       "      <td>The Best of Enemies</td>\n",
       "      <td>$10,000,000</td>\n",
       "      <td>$10,205,616</td>\n",
       "    </tr>\n",
       "    <tr>\n",
       "      <th>3915</th>\n",
       "      <td>2019</td>\n",
       "      <td>El Chicano</td>\n",
       "      <td>$8,000,000</td>\n",
       "      <td>$700,261</td>\n",
       "    </tr>\n",
       "    <tr>\n",
       "      <th>580</th>\n",
       "      <td>2019</td>\n",
       "      <td>The Secret Life of Pets 2</td>\n",
       "      <td>$80,000,000</td>\n",
       "      <td>$113,351,496</td>\n",
       "    </tr>\n",
       "    <tr>\n",
       "      <th>496</th>\n",
       "      <td>2019</td>\n",
       "      <td>Shazam!</td>\n",
       "      <td>$85,000,000</td>\n",
       "      <td>$362,899,733</td>\n",
       "    </tr>\n",
       "    <tr>\n",
       "      <th>95</th>\n",
       "      <td>2019</td>\n",
       "      <td>Captain Marvel</td>\n",
       "      <td>$175,000,000</td>\n",
       "      <td>$1,123,061,550</td>\n",
       "    </tr>\n",
       "  </tbody>\n",
       "</table>\n",
       "</div>"
      ],
      "text/plain": [
       "      year                      movie production_budget worldwide_gross\n",
       "3633  2019        The Best of Enemies       $10,000,000     $10,205,616\n",
       "3915  2019                 El Chicano        $8,000,000        $700,261\n",
       "580   2019  The Secret Life of Pets 2       $80,000,000    $113,351,496\n",
       "496   2019                    Shazam!       $85,000,000    $362,899,733\n",
       "95    2019             Captain Marvel      $175,000,000  $1,123,061,550"
      ]
     },
     "execution_count": 14,
     "metadata": {},
     "output_type": "execute_result"
    }
   ],
   "source": [
    "# Rename the necessary columns \n",
    "df1_renamed = df1.rename(columns = {'title' : 'movie', 'release_date' : 'year', 'vote_average' : 'rating'})\n",
    "display(df1_renamed.head())\n",
    "df2_renamed = df2.rename(columns = {'release_date' : 'year'})\n",
    "df2_renamed.head()"
   ]
  },
  {
   "cell_type": "code",
   "execution_count": 15,
   "metadata": {
    "scrolled": true
   },
   "outputs": [
    {
     "data": {
      "text/html": [
       "<div>\n",
       "<style scoped>\n",
       "    .dataframe tbody tr th:only-of-type {\n",
       "        vertical-align: middle;\n",
       "    }\n",
       "\n",
       "    .dataframe tbody tr th {\n",
       "        vertical-align: top;\n",
       "    }\n",
       "\n",
       "    .dataframe thead th {\n",
       "        text-align: right;\n",
       "    }\n",
       "</style>\n",
       "<table border=\"1\" class=\"dataframe\">\n",
       "  <thead>\n",
       "    <tr style=\"text-align: right;\">\n",
       "      <th></th>\n",
       "      <th>movie</th>\n",
       "      <th>genre</th>\n",
       "      <th>year</th>\n",
       "      <th>rating</th>\n",
       "      <th>director</th>\n",
       "      <th>production_budget</th>\n",
       "      <th>worldwide_gross</th>\n",
       "    </tr>\n",
       "  </thead>\n",
       "  <tbody>\n",
       "    <tr>\n",
       "      <th>0</th>\n",
       "      <td>Tomb Raider</td>\n",
       "      <td>Action</td>\n",
       "      <td>2018</td>\n",
       "      <td>6.3</td>\n",
       "      <td>Roar Uthaug</td>\n",
       "      <td>$90,000,000</td>\n",
       "      <td>$273,477,501</td>\n",
       "    </tr>\n",
       "    <tr>\n",
       "      <th>0</th>\n",
       "      <td>Tomb Raider</td>\n",
       "      <td>Adventure</td>\n",
       "      <td>2018</td>\n",
       "      <td>6.3</td>\n",
       "      <td>Roar Uthaug</td>\n",
       "      <td>$90,000,000</td>\n",
       "      <td>$273,477,501</td>\n",
       "    </tr>\n",
       "    <tr>\n",
       "      <th>0</th>\n",
       "      <td>Tomb Raider</td>\n",
       "      <td>Fantasy</td>\n",
       "      <td>2018</td>\n",
       "      <td>6.3</td>\n",
       "      <td>Roar Uthaug</td>\n",
       "      <td>$90,000,000</td>\n",
       "      <td>$273,477,501</td>\n",
       "    </tr>\n",
       "    <tr>\n",
       "      <th>1</th>\n",
       "      <td>Hell Fest</td>\n",
       "      <td>Horror</td>\n",
       "      <td>2018</td>\n",
       "      <td>5.5</td>\n",
       "      <td>Gregory Plotkin</td>\n",
       "      <td>$5,500,000</td>\n",
       "      <td>$18,119,231</td>\n",
       "    </tr>\n",
       "    <tr>\n",
       "      <th>2</th>\n",
       "      <td>The Sisters Brothers</td>\n",
       "      <td>Adventure</td>\n",
       "      <td>2018</td>\n",
       "      <td>7.0</td>\n",
       "      <td>Jacques Audiard</td>\n",
       "      <td>$38,000,000</td>\n",
       "      <td>$13,143,056</td>\n",
       "    </tr>\n",
       "  </tbody>\n",
       "</table>\n",
       "</div>"
      ],
      "text/plain": [
       "                  movie      genre  year  rating         director  \\\n",
       "0           Tomb Raider     Action  2018     6.3      Roar Uthaug   \n",
       "0           Tomb Raider  Adventure  2018     6.3      Roar Uthaug   \n",
       "0           Tomb Raider    Fantasy  2018     6.3      Roar Uthaug   \n",
       "1             Hell Fest     Horror  2018     5.5  Gregory Plotkin   \n",
       "2  The Sisters Brothers  Adventure  2018     7.0  Jacques Audiard   \n",
       "\n",
       "  production_budget worldwide_gross  \n",
       "0       $90,000,000    $273,477,501  \n",
       "0       $90,000,000    $273,477,501  \n",
       "0       $90,000,000    $273,477,501  \n",
       "1        $5,500,000     $18,119,231  \n",
       "2       $38,000,000     $13,143,056  "
      ]
     },
     "execution_count": 15,
     "metadata": {},
     "output_type": "execute_result"
    }
   ],
   "source": [
    "# Merge all DataFrames into one on the columns with the same names\n",
    "new_df = df3.merge(df1_renamed, on = ['year', 'movie', 'rating']).merge(df2_renamed, on = ['year', 'movie']).explode('genre')\n",
    "new_df.head()"
   ]
  },
  {
   "cell_type": "markdown",
   "metadata": {},
   "source": [
    "## Data Modeling\n",
    "Horizontal bar charts were plotted in order to find the most wolrdwide grossing movie genres and movie directors since 2010. \n",
    "***\n",
    "To determine the relation between the production budget and movie rating, the following steps were performed:\n",
    "* the production budget was binned, however, the outlier (the movie with the highest production budget) was not included\n",
    "* the data was grouped, the average rating was found for each binned category\n",
    "* bar chart was plotted\n",
    "***\n",
    "All the information was taken from the merged DataFrame. \n"
   ]
  },
  {
   "cell_type": "markdown",
   "metadata": {},
   "source": [
    "To find the highest worldwide grossing movie genres since 2010:"
   ]
  },
  {
   "cell_type": "code",
   "execution_count": 16,
   "metadata": {},
   "outputs": [
    {
     "data": {
      "text/html": [
       "<div>\n",
       "<style scoped>\n",
       "    .dataframe tbody tr th:only-of-type {\n",
       "        vertical-align: middle;\n",
       "    }\n",
       "\n",
       "    .dataframe tbody tr th {\n",
       "        vertical-align: top;\n",
       "    }\n",
       "\n",
       "    .dataframe thead th {\n",
       "        text-align: right;\n",
       "    }\n",
       "</style>\n",
       "<table border=\"1\" class=\"dataframe\">\n",
       "  <thead>\n",
       "    <tr style=\"text-align: right;\">\n",
       "      <th></th>\n",
       "      <th>genre</th>\n",
       "      <th>worldwide_gross</th>\n",
       "    </tr>\n",
       "  </thead>\n",
       "  <tbody>\n",
       "    <tr>\n",
       "      <th>0</th>\n",
       "      <td>Action</td>\n",
       "      <td>$273,477,501</td>\n",
       "    </tr>\n",
       "    <tr>\n",
       "      <th>0</th>\n",
       "      <td>Adventure</td>\n",
       "      <td>$273,477,501</td>\n",
       "    </tr>\n",
       "    <tr>\n",
       "      <th>0</th>\n",
       "      <td>Fantasy</td>\n",
       "      <td>$273,477,501</td>\n",
       "    </tr>\n",
       "    <tr>\n",
       "      <th>1</th>\n",
       "      <td>Horror</td>\n",
       "      <td>$18,119,231</td>\n",
       "    </tr>\n",
       "    <tr>\n",
       "      <th>2</th>\n",
       "      <td>Adventure</td>\n",
       "      <td>$13,143,056</td>\n",
       "    </tr>\n",
       "  </tbody>\n",
       "</table>\n",
       "</div>"
      ],
      "text/plain": [
       "       genre worldwide_gross\n",
       "0     Action    $273,477,501\n",
       "0  Adventure    $273,477,501\n",
       "0    Fantasy    $273,477,501\n",
       "1     Horror     $18,119,231\n",
       "2  Adventure     $13,143,056"
      ]
     },
     "execution_count": 16,
     "metadata": {},
     "output_type": "execute_result"
    }
   ],
   "source": [
    "# Select necessary columns\n",
    "gross_genre = new_df[['genre', 'worldwide_gross']]\n",
    "gross_genre.head()"
   ]
  },
  {
   "cell_type": "code",
   "execution_count": 17,
   "metadata": {},
   "outputs": [
    {
     "name": "stderr",
     "output_type": "stream",
     "text": [
      "<ipython-input-17-82aa84cc924b>:2: SettingWithCopyWarning: \n",
      "A value is trying to be set on a copy of a slice from a DataFrame.\n",
      "Try using .loc[row_indexer,col_indexer] = value instead\n",
      "\n",
      "See the caveats in the documentation: https://pandas.pydata.org/pandas-docs/stable/user_guide/indexing.html#returning-a-view-versus-a-copy\n",
      "  gross_genre[\"worldwide_gross\"] = gross_genre[\"worldwide_gross\"].replace(\"[$,]\", \"\", regex=True).astype(int)\n"
     ]
    },
    {
     "data": {
      "text/plain": [
       "genre\n",
       "Documentary    7.712436e+06\n",
       "Music          9.124764e+06\n",
       "War            4.340352e+07\n",
       "Sport          4.835648e+07\n",
       "Romance        6.490569e+07\n",
       "Crime          7.799637e+07\n",
       "Drama          7.987591e+07\n",
       "Horror         8.173075e+07\n",
       "Biography      8.386885e+07\n",
       "Thriller       9.185368e+07\n",
       "Mystery        9.507077e+07\n",
       "History        1.261628e+08\n",
       "Family         1.879096e+08\n",
       "Comedy         1.931360e+08\n",
       "Action         2.607188e+08\n",
       "Fantasy        2.690376e+08\n",
       "Sci-Fi         3.136402e+08\n",
       "Adventure      3.945403e+08\n",
       "Animation      5.785690e+08\n",
       "Name: worldwide_gross, dtype: float64"
      ]
     },
     "execution_count": 17,
     "metadata": {},
     "output_type": "execute_result"
    }
   ],
   "source": [
    "# Change worldwide_gross column type to integer \n",
    "gross_genre[\"worldwide_gross\"] = gross_genre[\"worldwide_gross\"].replace(\"[$,]\", \"\", regex=True).astype(int)\n",
    "# Group the data according to the necessary category, find the average gross, sort in the ascending order\n",
    "gross_genre_new = gross_genre.groupby(['genre'])['worldwide_gross'].mean().sort_values(ascending = True)\n",
    "gross_genre_new"
   ]
  },
  {
   "cell_type": "code",
   "execution_count": 18,
   "metadata": {
    "scrolled": true
   },
   "outputs": [
    {
     "data": {
      "image/png": "[encoded data removed]",
      "text/plain": [
       "<Figure size 720x432 with 1 Axes>"
      ]
     },
     "metadata": {
      "needs_background": "light"
     },
     "output_type": "display_data"
    }
   ],
   "source": [
    "# Plot the graph\n",
    "g = gross_genre_new.plot(kind = 'barh', figsize = (10,6), title = \"Worldwide Gross of Movie Genres\", color = 'green')\n",
    "g.set_xlabel('worldwide_gross')\n",
    "g.figure.savefig('gross-genre')"
   ]
  },
  {
   "cell_type": "markdown",
   "metadata": {},
   "source": [
    "According to the plotted bar chart, the highest worldwide grossing movie genres since 2010 have been animation, adventure and science fiction."
   ]
  },
  {
   "cell_type": "markdown",
   "metadata": {},
   "source": [
    "To find the highest worldwide grossing movie directors since 2010:"
   ]
  },
  {
   "cell_type": "code",
   "execution_count": 19,
   "metadata": {
    "scrolled": true
   },
   "outputs": [
    {
     "data": {
      "text/html": [
       "<div>\n",
       "<style scoped>\n",
       "    .dataframe tbody tr th:only-of-type {\n",
       "        vertical-align: middle;\n",
       "    }\n",
       "\n",
       "    .dataframe tbody tr th {\n",
       "        vertical-align: top;\n",
       "    }\n",
       "\n",
       "    .dataframe thead th {\n",
       "        text-align: right;\n",
       "    }\n",
       "</style>\n",
       "<table border=\"1\" class=\"dataframe\">\n",
       "  <thead>\n",
       "    <tr style=\"text-align: right;\">\n",
       "      <th></th>\n",
       "      <th>worldwide_gross</th>\n",
       "      <th>director</th>\n",
       "    </tr>\n",
       "  </thead>\n",
       "  <tbody>\n",
       "    <tr>\n",
       "      <th>0</th>\n",
       "      <td>$273,477,501</td>\n",
       "      <td>Roar Uthaug</td>\n",
       "    </tr>\n",
       "    <tr>\n",
       "      <th>0</th>\n",
       "      <td>$273,477,501</td>\n",
       "      <td>Roar Uthaug</td>\n",
       "    </tr>\n",
       "    <tr>\n",
       "      <th>0</th>\n",
       "      <td>$273,477,501</td>\n",
       "      <td>Roar Uthaug</td>\n",
       "    </tr>\n",
       "    <tr>\n",
       "      <th>1</th>\n",
       "      <td>$18,119,231</td>\n",
       "      <td>Gregory Plotkin</td>\n",
       "    </tr>\n",
       "    <tr>\n",
       "      <th>2</th>\n",
       "      <td>$13,143,056</td>\n",
       "      <td>Jacques Audiard</td>\n",
       "    </tr>\n",
       "  </tbody>\n",
       "</table>\n",
       "</div>"
      ],
      "text/plain": [
       "  worldwide_gross         director\n",
       "0    $273,477,501      Roar Uthaug\n",
       "0    $273,477,501      Roar Uthaug\n",
       "0    $273,477,501      Roar Uthaug\n",
       "1     $18,119,231  Gregory Plotkin\n",
       "2     $13,143,056  Jacques Audiard"
      ]
     },
     "execution_count": 19,
     "metadata": {},
     "output_type": "execute_result"
    }
   ],
   "source": [
    "# Select necessary information from DataFrame\n",
    "gross_director = new_df[['worldwide_gross', 'director']]\n",
    "gross_director.head()"
   ]
  },
  {
   "cell_type": "code",
   "execution_count": 20,
   "metadata": {},
   "outputs": [
    {
     "name": "stderr",
     "output_type": "stream",
     "text": [
      "<ipython-input-20-0a74003bec2d>:2: SettingWithCopyWarning: \n",
      "A value is trying to be set on a copy of a slice from a DataFrame.\n",
      "Try using .loc[row_indexer,col_indexer] = value instead\n",
      "\n",
      "See the caveats in the documentation: https://pandas.pydata.org/pandas-docs/stable/user_guide/indexing.html#returning-a-view-versus-a-copy\n",
      "  gross_director[\"worldwide_gross\"] = gross_director[\"worldwide_gross\"].replace(\"[$,]\", \"\", regex=True).astype(int)\n"
     ]
    },
    {
     "data": {
      "text/plain": [
       "director\n",
       "Aaron T. Wells     0.000000e+00\n",
       "David Hackl        0.000000e+00\n",
       "Michael Winnick    0.000000e+00\n",
       "Christian Sesma    0.000000e+00\n",
       "Benni Diez         0.000000e+00\n",
       "                       ...     \n",
       "Joachim Rønning    7.882411e+08\n",
       "Eric Guillon       1.034728e+09\n",
       "Pierre Coffin      1.097532e+09\n",
       "Kyle Balda         1.097532e+09\n",
       "Joss Whedon        1.403014e+09\n",
       "Name: worldwide_gross, Length: 142, dtype: float64"
      ]
     },
     "execution_count": 20,
     "metadata": {},
     "output_type": "execute_result"
    }
   ],
   "source": [
    "# Change worldwide_gross column type to integer\n",
    "gross_director[\"worldwide_gross\"] = gross_director[\"worldwide_gross\"].replace(\"[$,]\", \"\", regex=True).astype(int)\n",
    "# Group the data according to the necessary category, find the average gross, sort in the ascending order\n",
    "gross_director_new = gross_director.groupby(['director'])['worldwide_gross'].mean().sort_values(ascending = True)\n",
    "gross_director_new"
   ]
  },
  {
   "cell_type": "code",
   "execution_count": 21,
   "metadata": {},
   "outputs": [
    {
     "data": {
      "image/png": "[encoded data removed]",
      "text/plain": [
       "<Figure size 720x432 with 1 Axes>"
      ]
     },
     "metadata": {
      "needs_background": "light"
     },
     "output_type": "display_data"
    }
   ],
   "source": [
    "# Plot the graph, include the top 15 directors\n",
    "gd = gross_director_new[-15:].plot(kind = 'barh', figsize = (10,6), title = \"Worldwide Gross of Movie Directors\", color = 'red')\n",
    "gd.set_xlabel('worldwide_gross')\n",
    "gd.figure.savefig('gross-director')"
   ]
  },
  {
   "cell_type": "markdown",
   "metadata": {},
   "source": [
    "The resulted bar chart represents fifteen highest worldwide grossing movie directors since 2010. The first three places belong to [Joss Whedon](https://www.imdb.com/name/nm0923736/#director), [Kyle Balda](https://www.imdb.com/name/nm0049633/), and [Pierre Coffin](https://www.imdb.com/name/nm1853544/)."
   ]
  },
  {
   "cell_type": "markdown",
   "metadata": {},
   "source": [
    "To find the relation between average movie ratings and the production budget:"
   ]
  },
  {
   "cell_type": "code",
   "execution_count": 22,
   "metadata": {
    "scrolled": false
   },
   "outputs": [
    {
     "data": {
      "text/html": [
       "<div>\n",
       "<style scoped>\n",
       "    .dataframe tbody tr th:only-of-type {\n",
       "        vertical-align: middle;\n",
       "    }\n",
       "\n",
       "    .dataframe tbody tr th {\n",
       "        vertical-align: top;\n",
       "    }\n",
       "\n",
       "    .dataframe thead th {\n",
       "        text-align: right;\n",
       "    }\n",
       "</style>\n",
       "<table border=\"1\" class=\"dataframe\">\n",
       "  <thead>\n",
       "    <tr style=\"text-align: right;\">\n",
       "      <th></th>\n",
       "      <th>rating</th>\n",
       "      <th>production_budget</th>\n",
       "    </tr>\n",
       "  </thead>\n",
       "  <tbody>\n",
       "    <tr>\n",
       "      <th>0</th>\n",
       "      <td>6.3</td>\n",
       "      <td>$90,000,000</td>\n",
       "    </tr>\n",
       "    <tr>\n",
       "      <th>0</th>\n",
       "      <td>6.3</td>\n",
       "      <td>$90,000,000</td>\n",
       "    </tr>\n",
       "    <tr>\n",
       "      <th>0</th>\n",
       "      <td>6.3</td>\n",
       "      <td>$90,000,000</td>\n",
       "    </tr>\n",
       "    <tr>\n",
       "      <th>1</th>\n",
       "      <td>5.5</td>\n",
       "      <td>$5,500,000</td>\n",
       "    </tr>\n",
       "    <tr>\n",
       "      <th>2</th>\n",
       "      <td>7.0</td>\n",
       "      <td>$38,000,000</td>\n",
       "    </tr>\n",
       "  </tbody>\n",
       "</table>\n",
       "</div>"
      ],
      "text/plain": [
       "   rating production_budget\n",
       "0     6.3       $90,000,000\n",
       "0     6.3       $90,000,000\n",
       "0     6.3       $90,000,000\n",
       "1     5.5        $5,500,000\n",
       "2     7.0       $38,000,000"
      ]
     },
     "execution_count": 22,
     "metadata": {},
     "output_type": "execute_result"
    }
   ],
   "source": [
    "# Select necessary information from DataFrame\n",
    "rating_budget = new_df[['rating', 'production_budget']]\n",
    "rating_budget.head()"
   ]
  },
  {
   "cell_type": "code",
   "execution_count": 23,
   "metadata": {},
   "outputs": [
    {
     "name": "stderr",
     "output_type": "stream",
     "text": [
      "<ipython-input-23-c6ca34f979bc>:2: SettingWithCopyWarning: \n",
      "A value is trying to be set on a copy of a slice from a DataFrame.\n",
      "Try using .loc[row_indexer,col_indexer] = value instead\n",
      "\n",
      "See the caveats in the documentation: https://pandas.pydata.org/pandas-docs/stable/user_guide/indexing.html#returning-a-view-versus-a-copy\n",
      "  rating_budget[\"production_budget\"] = rating_budget[\"production_budget\"].replace(\"[$,]\", \"\", regex=True).astype(int)\n"
     ]
    },
    {
     "data": {
      "text/plain": [
       "0      [50000000, 100000000)\n",
       "0      [50000000, 100000000)\n",
       "0      [50000000, 100000000)\n",
       "1              [0, 50000000)\n",
       "2              [0, 50000000)\n",
       "               ...          \n",
       "161            [0, 50000000)\n",
       "162            [0, 50000000)\n",
       "162            [0, 50000000)\n",
       "163            [0, 50000000)\n",
       "164            [0, 50000000)\n",
       "Name: production_budget, Length: 414, dtype: category\n",
       "Categories (6, interval[int64]): [[0, 50000000) < [50000000, 100000000) < [100000000, 150000000) < [150000000, 200000000) < [200000000, 250000000) < [250000000, 300000000)]"
      ]
     },
     "execution_count": 23,
     "metadata": {},
     "output_type": "execute_result"
    }
   ],
   "source": [
    "# Change production_budget column type to integer\n",
    "rating_budget[\"production_budget\"] = rating_budget[\"production_budget\"].replace(\"[$,]\", \"\", regex=True).astype(int)\n",
    "# Bin production_budget\n",
    "binned_budget = rating_budget.groupby(['rating'])['production_budget'].transform(pd.cut, bins=[0, 50000000, 100000000, 150000000, 200000000, 250000000, 300000000], precision=0, right=False)\n",
    "binned_budget"
   ]
  },
  {
   "cell_type": "code",
   "execution_count": 24,
   "metadata": {},
   "outputs": [
    {
     "data": {
      "text/html": [
       "<div>\n",
       "<style scoped>\n",
       "    .dataframe tbody tr th:only-of-type {\n",
       "        vertical-align: middle;\n",
       "    }\n",
       "\n",
       "    .dataframe tbody tr th {\n",
       "        vertical-align: top;\n",
       "    }\n",
       "\n",
       "    .dataframe thead th {\n",
       "        text-align: right;\n",
       "    }\n",
       "</style>\n",
       "<table border=\"1\" class=\"dataframe\">\n",
       "  <thead>\n",
       "    <tr style=\"text-align: right;\">\n",
       "      <th></th>\n",
       "      <th>rating</th>\n",
       "    </tr>\n",
       "    <tr>\n",
       "      <th>production_budget</th>\n",
       "      <th></th>\n",
       "    </tr>\n",
       "  </thead>\n",
       "  <tbody>\n",
       "    <tr>\n",
       "      <th>[0, 50000000)</th>\n",
       "      <td>6.234221</td>\n",
       "    </tr>\n",
       "    <tr>\n",
       "      <th>[50000000, 100000000)</th>\n",
       "      <td>6.267143</td>\n",
       "    </tr>\n",
       "    <tr>\n",
       "      <th>[100000000, 150000000)</th>\n",
       "      <td>6.150000</td>\n",
       "    </tr>\n",
       "    <tr>\n",
       "      <th>[150000000, 200000000)</th>\n",
       "      <td>6.700000</td>\n",
       "    </tr>\n",
       "    <tr>\n",
       "      <th>[200000000, 250000000)</th>\n",
       "      <td>6.600000</td>\n",
       "    </tr>\n",
       "    <tr>\n",
       "      <th>[250000000, 300000000)</th>\n",
       "      <td>NaN</td>\n",
       "    </tr>\n",
       "  </tbody>\n",
       "</table>\n",
       "</div>"
      ],
      "text/plain": [
       "                          rating\n",
       "production_budget               \n",
       "[0, 50000000)           6.234221\n",
       "[50000000, 100000000)   6.267143\n",
       "[100000000, 150000000)  6.150000\n",
       "[150000000, 200000000)  6.700000\n",
       "[200000000, 250000000)  6.600000\n",
       "[250000000, 300000000)       NaN"
      ]
     },
     "execution_count": 24,
     "metadata": {},
     "output_type": "execute_result"
    }
   ],
   "source": [
    "# Group the data, find the average movie rating for binned_budget\n",
    "qd = rating_budget.groupby([binned_budget])[['rating']].mean()\n",
    "qd"
   ]
  },
  {
   "cell_type": "code",
   "execution_count": 25,
   "metadata": {},
   "outputs": [
    {
     "data": {
      "image/png": "[encoded data removed]",
      "text/plain": [
       "<Figure size 720x432 with 1 Axes>"
      ]
     },
     "metadata": {
      "needs_background": "light"
     },
     "output_type": "display_data"
    }
   ],
   "source": [
    "# Plot the graph\n",
    "qd.plot(kind = 'bar', figsize = (10,6), title = \"Relation of Production Budget and Movie Rating\", color = 'orange')\n",
    "plt.ylabel('rating')\n",
    "plt.xticks(rotation = 25)\n",
    "plt.savefig('Budget-rating')"
   ]
  },
  {
   "cell_type": "markdown",
   "metadata": {},
   "source": [
    "As seen from the bar plot, the production budget doesn't influcence much on the average movie rating, since the ratings are between 6 and 7 stars for all budgets. However, the best ratings belong to the movies with the production budget from 150 million dollars to 200 million dollars."
   ]
  },
  {
   "cell_type": "markdown",
   "metadata": {},
   "source": [
    "## Conclusions\n",
    "This analysis leads to three recommendations for building a new movie studio by Microsoft:\n",
    "\n",
    "***\n",
    "* The movie genres with the highest average worldwide gross are Animation, Adventure and Science Fiction.\n",
    "* The movie directors with the highest average worldwide gross are Joss Whedon, Kyle Balda, and Pierre Coffin.\n",
    "* There is no direct relation between movie production budget and its rating, since average rating fluctuates between 6 and 7 stars. However, the best ratings belongs to movie with the production budget from 150 million dollars to 200 million dollars.\n",
    "***\n",
    "The results of the performed analysis can be used by Microsoft in order to get the higher profit when filming. However, a deeper research can be conducted. So, the analysis of movie ratings and the months when the movies were released, the wolrdwide gross of the movies and the writers of those movies, etc. can be done in order to get a bigger image of the movies that do the best at the box offices. Also, as concerns the relation between production budget and average movie ratings, more research could be conducted and the number of films in each category should be taken into account. If we look at the number of movies for each binned category, we will see that the majority of movies have budget below 50 million dollars and their ratings fluctuate from the lowest to the highest. So, to my opinion, movies in those category along should be analyzed to get the more accurate image of the situation."
   ]
  }
 ],
 "metadata": {
  "kernelspec": {
   "display_name": "Python 3",
   "language": "python",
   "name": "python3"
  },
  "language_info": {
   "codemirror_mode": {
    "name": "ipython",
    "version": 3
   },
   "file_extension": ".py",
   "mimetype": "text/x-python",
   "name": "python",
   "nbconvert_exporter": "python",
   "pygments_lexer": "ipython3",
   "version": "3.8.5"
  }
 },
 "nbformat": 4,
 "nbformat_minor": 2
}
